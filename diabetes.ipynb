{
  "nbformat": 4,
  "nbformat_minor": 0,
  "metadata": {
    "colab": {
      "provenance": [],
      "mount_file_id": "1zErbqCJO5_ebczBCmBacT5MlGMl-SC5e",
      "authorship_tag": "ABX9TyNoFDTMURHdfBnJZ7PGubod",
      "include_colab_link": true
    },
    "kernelspec": {
      "name": "python3",
      "display_name": "Python 3"
    },
    "language_info": {
      "name": "python"
    }
  },
  "cells": [
    {
      "cell_type": "markdown",
      "metadata": {
        "id": "view-in-github",
        "colab_type": "text"
      },
      "source": [
        "<a href=\"https://colab.research.google.com/github/gopsthv/COGNORISE_INFOTECH_ML/blob/main/diabetes.ipynb\" target=\"_parent\"><img src=\"https://colab.research.google.com/assets/colab-badge.svg\" alt=\"Open In Colab\"/></a>"
      ]
    },
    {
      "cell_type": "code",
      "execution_count": 8,
      "metadata": {
        "id": "q2gRKzn2iTKx"
      },
      "outputs": [],
      "source": [
        "import numpy as np\n",
        "import pandas as pd\n",
        "from sklearn.model_selection import train_test_split\n",
        "from sklearn.ensemble import RandomForestClassifier\n",
        "from sklearn.neighbors import KNeighborsClassifier\n",
        "from sklearn.metrics import accuracy_score, classification_report\n"
      ]
    },
    {
      "cell_type": "code",
      "source": [
        "df = pd.read_csv('/diabetes_prediction_dataset.csv')"
      ],
      "metadata": {
        "id": "5mXFPGMkj5I5"
      },
      "execution_count": 10,
      "outputs": []
    },
    {
      "cell_type": "code",
      "source": [
        "X = df[['blood_glucose_level', 'bmi']]\n",
        "y = df['diabetes']"
      ],
      "metadata": {
        "id": "IcSIGGhjmr77"
      },
      "execution_count": 13,
      "outputs": []
    },
    {
      "cell_type": "code",
      "source": [
        "X_train, X_test, y_train, y_test = train_test_split(X, y, test_size=0.2, random_state=42)"
      ],
      "metadata": {
        "id": "MacVZ5eWmzcz"
      },
      "execution_count": 14,
      "outputs": []
    },
    {
      "cell_type": "code",
      "source": [
        "rf_classifier = RandomForestClassifier(n_estimators=100, random_state=42)\n",
        "rf_classifier.fit(X_train, y_train)\n",
        "rf_predictions = rf_classifier.predict(X_test)"
      ],
      "metadata": {
        "id": "bgI4KQg-m38U"
      },
      "execution_count": 15,
      "outputs": []
    },
    {
      "cell_type": "code",
      "source": [
        "knn_classifier = KNeighborsClassifier(n_neighbors=5)\n",
        "knn_classifier.fit(X_train, y_train)\n",
        "knn_predictions = knn_classifier.predict(X_test)"
      ],
      "metadata": {
        "id": "t8LOxLPanBVD"
      },
      "execution_count": 16,
      "outputs": []
    },
    {
      "cell_type": "code",
      "source": [
        "print(\"Random Forest Classifier Results:\")\n",
        "print(\"Accuracy:\", accuracy_score(y_test, rf_predictions))\n",
        "print(\"Classification Report:\\n\", classification_report(y_test, rf_predictions))\n",
        "\n",
        "print(\"\\nK-Nearest Neighbors (KNN) Results:\")\n",
        "print(\"Accuracy:\", accuracy_score(y_test, knn_predictions))\n",
        "print(\"Classification Report:\\n\", classification_report(y_test, knn_predictions))"
      ],
      "metadata": {
        "colab": {
          "base_uri": "https://localhost:8080/"
        },
        "id": "gXo3OrDlnF65",
        "outputId": "c9afceb0-c299-43dc-f53e-f93c6932b956"
      },
      "execution_count": 17,
      "outputs": [
        {
          "output_type": "stream",
          "name": "stdout",
          "text": [
            "Random Forest Classifier Results:\n",
            "Accuracy: 0.9282\n",
            "Classification Report:\n",
            "               precision    recall  f1-score   support\n",
            "\n",
            "           0       0.95      0.98      0.96     18292\n",
            "           1       0.62      0.42      0.50      1708\n",
            "\n",
            "    accuracy                           0.93     20000\n",
            "   macro avg       0.78      0.70      0.73     20000\n",
            "weighted avg       0.92      0.93      0.92     20000\n",
            "\n",
            "\n",
            "K-Nearest Neighbors (KNN) Results:\n",
            "Accuracy: 0.9414\n",
            "Classification Report:\n",
            "               precision    recall  f1-score   support\n",
            "\n",
            "           0       0.95      0.99      0.97     18292\n",
            "           1       0.82      0.40      0.54      1708\n",
            "\n",
            "    accuracy                           0.94     20000\n",
            "   macro avg       0.89      0.70      0.75     20000\n",
            "weighted avg       0.94      0.94      0.93     20000\n",
            "\n"
          ]
        }
      ]
    }
  ]
}